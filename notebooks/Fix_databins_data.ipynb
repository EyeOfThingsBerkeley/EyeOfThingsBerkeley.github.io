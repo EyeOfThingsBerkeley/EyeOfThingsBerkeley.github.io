{
 "metadata": {
  "name": "",
  "signature": "sha256:a4bc0d881fd3a500e8733fe69b3670e7b0aa30cab857bcea53869d857671c178"
 },
 "nbformat": 3,
 "nbformat_minor": 0,
 "worksheets": [
  {
   "cells": [
    {
     "cell_type": "code",
     "collapsed": false,
     "input": [
      "import pandas as pd\n",
      "from random import randint\n",
      "import numpy as np\n",
      "import cPickle as pickle\n",
      "from copy import deepcopy"
     ],
     "language": "python",
     "metadata": {},
     "outputs": [],
     "prompt_number": 1
    },
    {
     "cell_type": "code",
     "collapsed": false,
     "input": [
      "data = open('WolframDataDropRawData_DD9166f904472-c765-49bc-8ef6-c2d5f30112ae.tsv', 'r')"
     ],
     "language": "python",
     "metadata": {},
     "outputs": [],
     "prompt_number": 2
    },
    {
     "cell_type": "code",
     "collapsed": false,
     "input": [
      "data_str=data.read()"
     ],
     "language": "python",
     "metadata": {},
     "outputs": [],
     "prompt_number": 3
    },
    {
     "cell_type": "code",
     "collapsed": false,
     "input": [
      "to_fix={}\n",
      "\n",
      "to_fix[' \\t']=' '\n",
      "to_fix['=\\t']=''\n",
      "to_fix['=\\n']=''\n",
      "to_fix['=\\r']=''\n",
      "to_fix['\\tquot']=' quot'\n",
      "to_fix['\\tamp']=' amp'\n",
      "\n",
      "\n",
      "for fix in to_fix.keys():\n",
      "    fixed_data=data_str.replace(fix,to_fix[fix])\n",
      "\n",
      "\n",
      "rows=fixed_data.split('\\n')\n",
      "\n",
      "for fix in to_fix.keys():\n",
      "    rows=[r.replace(fix,to_fix[fix]) for r in rows]\n",
      "\n",
      "\n",
      "rows = [r for r in rows[:]]"
     ],
     "language": "python",
     "metadata": {},
     "outputs": [],
     "prompt_number": 4
    },
    {
     "cell_type": "code",
     "collapsed": false,
     "input": [
      "parsed_rows = [r.split('\\t') for r in rows]\n",
      "print len(rows), len(parsed_rows)"
     ],
     "language": "python",
     "metadata": {},
     "outputs": [
      {
       "output_type": "stream",
       "stream": "stdout",
       "text": [
        "1266 1266\n"
       ]
      }
     ],
     "prompt_number": 5
    },
    {
     "cell_type": "code",
     "collapsed": false,
     "input": [
      "key_vals = {}\n",
      "for ix, row in enumerate(parsed_rows):\n",
      "    key_vals[ix] = {}\n",
      "    for e in row:\n",
      "        if '=' in e:\n",
      "            field_split=e.split('=',1)\n",
      "            key=field_split[0].lower().strip()\n",
      "            value=field_split[1]\n",
      "            \n",
      "            key_vals[ix][key] = value\n",
      "        "
     ],
     "language": "python",
     "metadata": {},
     "outputs": [],
     "prompt_number": 6
    },
    {
     "cell_type": "code",
     "collapsed": false,
     "input": [
      "df = pd.DataFrame.from_dict(key_vals)\n",
      "df = df.T"
     ],
     "language": "python",
     "metadata": {},
     "outputs": [],
     "prompt_number": 7
    },
    {
     "cell_type": "code",
     "collapsed": false,
     "input": [
      "df.to_csv('datadrop_output.csv',sep='|', index_col=False)"
     ],
     "language": "python",
     "metadata": {},
     "outputs": [],
     "prompt_number": 8
    },
    {
     "cell_type": "code",
     "collapsed": false,
     "input": [
      "df_weather = df[df.actor == ' weather']"
     ],
     "language": "python",
     "metadata": {},
     "outputs": [],
     "prompt_number": 9
    },
    {
     "cell_type": "code",
     "collapsed": false,
     "input": [
      "new_weather_values = []\n",
      "hours = range(24)\n",
      "hours.remove(19)\n",
      "for ix, data in df_weather.iterrows():\n",
      "    time = pd.to_datetime(data.timestamp)\n",
      "    year = str(time.year)\n",
      "    month = str(time.month)\n",
      "    day = str(time.day)\n",
      "    value3_type = data.value3_type\n",
      "    activity_type = data.activity_type\n",
      "    actor = 'weather'\n",
      "    col_list = ['activity_type', 'actor', 'timestamp', 'value3', 'value3_type']\n",
      "    for hour in hours:\n",
      "        if (hour-7) > 9 or (hour-7) < 20: \n",
      "            #value = high temp, value2 = low temp, value3 = current temp\n",
      "            value3 = randint(int(data.value3), int(data.value)+3)\n",
      "        else:\n",
      "            value3 = randint(int(data.value2), int(data.value3))\n",
      "        datetime = pd.to_datetime(day+'/'+month+'/'+year+'/'+str(hour) ,format='%d/%m/%Y/%H')\n",
      "        col_values = [activity_type, actor, datetime, value3, value3_type]\n",
      "    \n",
      "        temp_list = []\n",
      "        for col in df_weather.columns:\n",
      "            if col in col_list:\n",
      "                temp_list.append(col_values[col_list.index(col)])\n",
      "            else:\n",
      "                temp_list.append(np.nan)\n",
      "        new_weather_values.append(tuple(temp_list))\n",
      "        del temp_list\n"
     ],
     "language": "python",
     "metadata": {},
     "outputs": [],
     "prompt_number": 10
    },
    {
     "cell_type": "code",
     "collapsed": false,
     "input": [
      "df_new_weather_values = df_weather.append(pd.DataFrame(new_weather_values, columns=df_weather.columns))"
     ],
     "language": "python",
     "metadata": {},
     "outputs": [],
     "prompt_number": 11
    },
    {
     "cell_type": "heading",
     "level": 3,
     "metadata": {},
     "source": [
      "Add Names"
     ]
    },
    {
     "cell_type": "code",
     "collapsed": false,
     "input": [
      "actor_name_lookup = pickle.load(open('actor_name_lookup.pkl', 'rb'))"
     ],
     "language": "python",
     "metadata": {},
     "outputs": [],
     "prompt_number": 12
    },
    {
     "cell_type": "code",
     "collapsed": false,
     "input": [
      "def update_name(activity, actor):\n",
      "    if activity is np.nan:\n",
      "        return actor\n",
      "    elif actor is np.nan:\n",
      "        if activity in actor_name_lookup:\n",
      "            return actor_name_lookup[activity]\n",
      "        new_name = raw_input('What is the actor of this activity %s: ' % (activity))\n",
      "        actor_name_lookup[activity] = new_name\n",
      "        return new_name\n",
      "        \n",
      "    else:\n",
      "        return actor"
     ],
     "language": "python",
     "metadata": {},
     "outputs": [],
     "prompt_number": 13
    },
    {
     "cell_type": "code",
     "collapsed": false,
     "input": [
      "new_actor_list = []\n",
      "for ix, row in df.iterrows():\n",
      "    new_actor_list.append(update_name(row.activity_type, row.actor))"
     ],
     "language": "python",
     "metadata": {},
     "outputs": [],
     "prompt_number": 14
    },
    {
     "cell_type": "code",
     "collapsed": false,
     "input": [
      "pickle.dump(actor_name_lookup, open('actor_name_lookup.pkl', 'wb'))"
     ],
     "language": "python",
     "metadata": {},
     "outputs": [],
     "prompt_number": 15
    },
    {
     "cell_type": "code",
     "collapsed": false,
     "input": [
      "df.actor = [x.strip() if type(x) == type('') else x for x in new_actor_list]"
     ],
     "language": "python",
     "metadata": {},
     "outputs": [],
     "prompt_number": 16
    },
    {
     "cell_type": "code",
     "collapsed": false,
     "input": [
      "df.actor = ['Colin' if x != 'weather' else x for x in list(df.actor)]"
     ],
     "language": "python",
     "metadata": {},
     "outputs": [],
     "prompt_number": 17
    },
    {
     "cell_type": "heading",
     "level": 3,
     "metadata": {},
     "source": [
      "Add new user"
     ]
    },
    {
     "cell_type": "code",
     "collapsed": false,
     "input": [
      "df_new_user = df[df.actor == 'Colin']"
     ],
     "language": "python",
     "metadata": {},
     "outputs": [],
     "prompt_number": 18
    },
    {
     "cell_type": "code",
     "collapsed": false,
     "input": [
      "df_new_user.actor = ['Xavier' for x in list(df_new_user.actor)]"
     ],
     "language": "python",
     "metadata": {},
     "outputs": [
      {
       "output_type": "stream",
       "stream": "stderr",
       "text": [
        "/Users/colingerber/Documents/I_School_Classes/Internet_Of_Things/env/lib/python2.7/site-packages/pandas/core/generic.py:1974: SettingWithCopyWarning: \n",
        "A value is trying to be set on a copy of a slice from a DataFrame.\n",
        "Try using .loc[row_indexer,col_indexer] = value instead\n",
        "\n",
        "See the the caveats in the documentation: http://pandas.pydata.org/pandas-docs/stable/indexing.html#indexing-view-versus-copy\n",
        "  self[name] = value\n"
       ]
      }
     ],
     "prompt_number": 19
    },
    {
     "cell_type": "code",
     "collapsed": false,
     "input": [
      "df = df.append(df_new_user)"
     ],
     "language": "python",
     "metadata": {},
     "outputs": [],
     "prompt_number": 20
    },
    {
     "cell_type": "code",
     "collapsed": false,
     "input": [
      "df_with_weather = df.append(pd.DataFrame(new_weather_values, columns=df_weather.columns))"
     ],
     "language": "python",
     "metadata": {},
     "outputs": [],
     "prompt_number": 21
    },
    {
     "cell_type": "code",
     "collapsed": false,
     "input": [
      "df_with_weather.to_csv('datadrop_output_with_weather.csv',sep='|', index_col=False)"
     ],
     "language": "python",
     "metadata": {},
     "outputs": [],
     "prompt_number": 22
    },
    {
     "cell_type": "code",
     "collapsed": false,
     "input": [],
     "language": "python",
     "metadata": {},
     "outputs": [],
     "prompt_number": 23
    }
   ],
   "metadata": {}
  }
 ]
}