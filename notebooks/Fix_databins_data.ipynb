{
 "metadata": {
  "name": "",
  "signature": "sha256:8c3100a867494e8be76b7ee62016267890d17e677eac59e05084094fb1a58379"
 },
 "nbformat": 3,
 "nbformat_minor": 0,
 "worksheets": [
  {
   "cells": [
    {
     "cell_type": "code",
     "collapsed": false,
     "input": [
      "import pandas as pd\n",
      "from random import randint\n",
      "import numpy as np"
     ],
     "language": "python",
     "metadata": {},
     "outputs": [],
     "prompt_number": 83
    },
    {
     "cell_type": "code",
     "collapsed": false,
     "input": [
      "data = open('WolframDataDropRawData_DD9166f904472-c765-49bc-8ef6-c2d5f30112ae.tsv', 'r')"
     ],
     "language": "python",
     "metadata": {},
     "outputs": [],
     "prompt_number": 149
    },
    {
     "cell_type": "code",
     "collapsed": false,
     "input": [
      "data_str=data.read()"
     ],
     "language": "python",
     "metadata": {},
     "outputs": [],
     "prompt_number": 150
    },
    {
     "cell_type": "code",
     "collapsed": false,
     "input": [
      "to_fix={}\n",
      "\n",
      "to_fix[' \\t']=' '\n",
      "to_fix['=\\t']=''\n",
      "to_fix['=\\n']=''\n",
      "to_fix['=\\r']=''\n",
      "to_fix['\\tquot']=' quot'\n",
      "to_fix['\\tamp']=' amp'\n",
      "\n",
      "\n",
      "for fix in to_fix.keys():\n",
      "    fixed_data=data_str.replace(fix,to_fix[fix])\n",
      "\n",
      "\n",
      "rows=fixed_data.split('\\n')\n",
      "\n",
      "for fix in to_fix.keys():\n",
      "    rows=[r.replace(fix,to_fix[fix]) for r in rows]\n",
      "\n",
      "\n",
      "rows = [r for r in rows[:]]"
     ],
     "language": "python",
     "metadata": {},
     "outputs": [],
     "prompt_number": 151
    },
    {
     "cell_type": "code",
     "collapsed": false,
     "input": [
      "parsed_rows = [r.split('\\t') for r in rows]\n",
      "print len(rows), len(parsed_rows)"
     ],
     "language": "python",
     "metadata": {},
     "outputs": [
      {
       "output_type": "stream",
       "stream": "stdout",
       "text": [
        "748 748\n"
       ]
      }
     ],
     "prompt_number": 152
    },
    {
     "cell_type": "code",
     "collapsed": false,
     "input": [
      "key_vals = {}\n",
      "for ix, row in enumerate(parsed_rows):\n",
      "    key_vals[ix] = {}\n",
      "    for e in row:\n",
      "        if '=' in e:\n",
      "            field_split=e.split('=',1)\n",
      "            key=field_split[0].lower().strip()\n",
      "            value=field_split[1]\n",
      "            \n",
      "            key_vals[ix][key] = value\n",
      "        "
     ],
     "language": "python",
     "metadata": {},
     "outputs": [],
     "prompt_number": 153
    },
    {
     "cell_type": "code",
     "collapsed": false,
     "input": [
      "df = pd.DataFrame.from_dict(key_vals)\n",
      "df = df.T"
     ],
     "language": "python",
     "metadata": {},
     "outputs": [],
     "prompt_number": 154
    },
    {
     "cell_type": "code",
     "collapsed": false,
     "input": [
      "df.to_csv('datadrop_output.csv',sep='|', index_col=False)"
     ],
     "language": "python",
     "metadata": {},
     "outputs": [],
     "prompt_number": 25
    },
    {
     "cell_type": "code",
     "collapsed": false,
     "input": [
      "df_weather = df[df.actor == ' weather']"
     ],
     "language": "python",
     "metadata": {},
     "outputs": [],
     "prompt_number": 51
    },
    {
     "cell_type": "code",
     "collapsed": false,
     "input": [
      "new_weather_values = []\n",
      "hours = range(24)\n",
      "hours.remove(19)\n",
      "for ix, data in df_weather.iterrows():\n",
      "    time = pd.to_datetime(data.timestamp)\n",
      "    year = str(time.year)\n",
      "    month = str(time.month)\n",
      "    day = str(time.day)\n",
      "    value3_type = data.value3_type\n",
      "    activity_type = data.activity_type\n",
      "    actor = data.actor\n",
      "    col_list = ['activity_type', 'actor', 'timestamp', 'value3', 'value3_type']\n",
      "    for hour in hours:\n",
      "        if (hour-7) > 9 or (hour-7) < 20: \n",
      "            #value = high temp, value2 = low temp, value3 = current temp\n",
      "            value3 = randint(int(data.value3), int(data.value))\n",
      "        else:\n",
      "            value3 = randint(int(data.value2), int(data.value3))\n",
      "        datetime = pd.to_datetime(day+month+year+str(hour) ,format='%d%m%Y%H')\n",
      "        col_values = [activity_type, actor, datetime, value3, value3_type]\n",
      "    \n",
      "        temp_list = []\n",
      "        for col in df_weather.columns:\n",
      "            if col in col_list:\n",
      "                temp_list.append(col_values[col_list.index(col)])\n",
      "            else:\n",
      "                temp_list.append(np.nan)\n",
      "        new_weather_values.append(tuple(temp_list))\n",
      "        del temp_list\n"
     ],
     "language": "python",
     "metadata": {},
     "outputs": [],
     "prompt_number": 119
    },
    {
     "cell_type": "code",
     "collapsed": false,
     "input": [
      "df_new_weather_values = df_weather.append(pd.DataFrame(new_weather_values, columns=df_weather.columns))"
     ],
     "language": "python",
     "metadata": {},
     "outputs": [],
     "prompt_number": 120
    },
    {
     "cell_type": "heading",
     "level": 3,
     "metadata": {},
     "source": [
      "Add Names"
     ]
    },
    {
     "cell_type": "code",
     "collapsed": false,
     "input": [
      "actor_name_lookup = {}\n",
      "def update_name(activity, actor):\n",
      "    if activity is np.nan:\n",
      "        return actor\n",
      "    elif actor is np.nan:\n",
      "        if activity in actor_name_lookup:\n",
      "            return actor_name_lookup[activity]\n",
      "        new_name = raw_input('What is the actor of this activity %s: ' % (activity))\n",
      "        actor_name_lookup[activity] = new_name\n",
      "        return new_name\n",
      "        \n",
      "    else:\n",
      "        return actor"
     ],
     "language": "python",
     "metadata": {},
     "outputs": [],
     "prompt_number": 143
    },
    {
     "cell_type": "code",
     "collapsed": false,
     "input": [
      "new_actor_list = []\n",
      "for ix, row in df.iterrows():\n",
      "    new_actor_list.append(update_name(row.activity_type, row.actor))"
     ],
     "language": "python",
     "metadata": {},
     "outputs": [
      {
       "name": "stdout",
       "output_type": "stream",
       "stream": "stdout",
       "text": [
        "What is the actor of this activity  weather value_type = fahrenheit value = 55: nan\n"
       ]
      },
      {
       "name": "stdout",
       "output_type": "stream",
       "stream": "stdout",
       "text": [
        "What is the actor of this activity  weather: Colin\n"
       ]
      },
      {
       "name": "stdout",
       "output_type": "stream",
       "stream": "stdout",
       "text": [
        "What is the actor of this activity  sunset: Colin\n"
       ]
      },
      {
       "name": "stdout",
       "output_type": "stream",
       "stream": "stdout",
       "text": [
        "What is the actor of this activity  weather value_type = fahrenheit value = 62: nan\n"
       ]
      },
      {
       "name": "stdout",
       "output_type": "stream",
       "stream": "stdout",
       "text": [
        "What is the actor of this activity iss: Colin\n"
       ]
      },
      {
       "name": "stdout",
       "output_type": "stream",
       "stream": "stdout",
       "text": [
        "What is the actor of this activity  weather value_type = fahrenheit value = 52: nan\n"
       ]
      },
      {
       "name": "stdout",
       "output_type": "stream",
       "stream": "stdout",
       "text": [
        "What is the actor of this activity  weather value_type = fahrenheit value = 51: na\n"
       ]
      },
      {
       "name": "stdout",
       "output_type": "stream",
       "stream": "stdout",
       "text": [
        "What is the actor of this activity  stock market: Colin\n"
       ]
      },
      {
       "output_type": "stream",
       "stream": "stdout",
       "text": [
        "Colin\n",
        "Colin\n",
        "Colin\n",
        "Colin\n",
        "Colin\n",
        " Colin\n",
        "Colin\n",
        "Colin\n",
        "Colin\n",
        " Colin\n",
        " Colin\n",
        "Colin\n",
        "Colin\n",
        " Colin\n",
        "Colin\n",
        "Colin\n",
        "Colin\n",
        " weather\n",
        " Colin\n",
        " Colin\n",
        "Colin\n",
        " Colin\n",
        "Colin\n",
        "Colin\n",
        " Colin\n",
        "Colin\n",
        "Colin\n",
        "Colin\n",
        "Colin\n",
        "Colin\n",
        "Colin\n",
        "Colin\n",
        "Colin\n",
        "Colin\n",
        "Colin\n",
        "Colin\n",
        "Colin\n",
        "Colin\n",
        "Colin\n",
        "Colin\n",
        " Colin\n",
        " weather\n",
        " Colin\n",
        "Colin\n",
        "Colin\n",
        "Colin\n",
        " Colin\n",
        "Colin\n",
        "Colin\n",
        "Colin\n",
        "Colin\n",
        " Colin\n",
        " weather\n",
        " Colin\n",
        "Colin\n",
        "Colin\n",
        "Colin\n",
        " Colin\n",
        " Colin\n",
        "Colin\n",
        "Colin\n",
        "Colin\n",
        "Colin\n",
        " Colin\n",
        " weather\n",
        " Colin\n",
        "Colin\n",
        "Colin\n",
        "Colin\n",
        "Colin\n",
        " Colin\n",
        "Colin\n",
        "Colin\n",
        "Colin\n",
        " Colin\n",
        " Colin\n",
        " Colin\n",
        " weather\n",
        " Colin\n",
        "Colin\n",
        "Colin\n",
        "Colin\n",
        "Colin\n",
        " Colin\n",
        "Colin\n",
        "Colin\n",
        "Colin\n",
        " Colin\n",
        "Colin\n",
        " Colin\n",
        " Colin\n",
        " Colin\n",
        " Colin\n",
        " weather\n",
        "Colin\n",
        "Colin\n",
        "Colin\n",
        "Colin\n",
        " Colin\n",
        "Colin\n",
        "Colin\n",
        "Colin\n",
        " Colin\n",
        " Colin\n",
        "Colin\n",
        " Colin\n",
        " Colin\n",
        " Colin\n",
        " weather\n",
        " Colin\n",
        "Colin\n",
        "Colin\n",
        "Colin\n",
        "Colin\n",
        " Colin\n",
        "Colin\n",
        "Colin\n",
        "Colin\n",
        " Colin\n",
        " Colin\n",
        " Colin\n",
        "Colin\n",
        " weather\n",
        "Colin\n",
        "Colin\n",
        "Colin\n",
        "Colin\n",
        " Colin\n",
        "Colin\n",
        "Colin\n",
        " Colin\n",
        "Colin\n",
        "Colin\n",
        "Colin\n",
        " Colin\n",
        " weather\n",
        "Colin\n",
        "Colin\n",
        " Colin\n",
        "Colin\n",
        "Colin\n",
        "Colin\n",
        "Colin\n",
        "Colin\n",
        " Colin\n",
        "Colin\n",
        "Colin\n",
        " weather\n",
        "Colin\n",
        " Colin\n",
        "Colin\n",
        "Colin\n",
        "Colin\n",
        "Colin\n",
        "Colin\n",
        " Colin\n",
        " weather\n",
        "Colin\n",
        " Colin\n",
        "Colin\n",
        "Colin\n",
        "Colin\n",
        "Colin\n",
        "Colin\n",
        " Colin\n",
        "Colin\n",
        "Colin\n",
        " Colin\n",
        "Colin\n",
        "Colin\n",
        " weather\n",
        "Colin\n",
        "Colin\n",
        "Colin\n",
        "Colin\n",
        "Colin\n",
        " Colin\n",
        "Colin\n",
        "Colin\n",
        " Colin\n",
        "Colin\n",
        " weather\n",
        "Colin\n",
        " Colin\n",
        "Colin\n",
        "Colin\n",
        "Colin\n",
        "Colin\n",
        " Colin\n",
        "Colin\n",
        " Colin\n",
        " Colin\n",
        "Colin\n",
        " weather\n",
        "Colin\n",
        " Colin\n",
        "Colin\n",
        "Colin\n",
        "Colin\n",
        "Colin\n",
        " Colin\n",
        "Colin\n",
        " Colin\n",
        "Colin\n",
        " weather\n",
        "Colin\n",
        " Colin\n",
        "Colin\n",
        "Colin\n",
        "Colin\n",
        "Colin\n",
        " Colin\n",
        "Colin\n",
        "Colin\n",
        "Colin\n",
        " weather\n",
        "Colin\n",
        "Colin\n",
        " Colin\n",
        "Colin\n",
        "Colin\n",
        "Colin\n",
        " Colin\n",
        " Colin\n",
        " Colin\n",
        "Colin\n",
        " weather\n",
        "Colin\n",
        " Colin\n",
        "Colin\n",
        "Colin\n",
        "Colin\n",
        "Colin\n",
        " Colin\n",
        "Colin\n",
        " Colin\n",
        " Colin\n",
        "Colin\n",
        " Colin\n",
        " Colin\n",
        "Colin\n",
        " weather\n",
        "Colin\n"
       ]
      }
     ],
     "prompt_number": 155
    },
    {
     "cell_type": "code",
     "collapsed": false,
     "input": [
      "df.actor = [x.strip() if type(x) == type('') else x for x in new_actor_list]"
     ],
     "language": "python",
     "metadata": {},
     "outputs": [],
     "prompt_number": 163
    },
    {
     "cell_type": "code",
     "collapsed": false,
     "input": [
      "df_with_weather = df.append(pd.DataFrame(new_weather_values, columns=df_weather.columns))"
     ],
     "language": "python",
     "metadata": {},
     "outputs": [],
     "prompt_number": 165
    },
    {
     "cell_type": "code",
     "collapsed": false,
     "input": [
      "df_with_weather.to_csv('datadrop_output_with_weather.csv',sep='|', index_col=False)"
     ],
     "language": "python",
     "metadata": {},
     "outputs": [],
     "prompt_number": 167
    },
    {
     "cell_type": "code",
     "collapsed": false,
     "input": [],
     "language": "python",
     "metadata": {},
     "outputs": []
    }
   ],
   "metadata": {}
  }
 ]
}