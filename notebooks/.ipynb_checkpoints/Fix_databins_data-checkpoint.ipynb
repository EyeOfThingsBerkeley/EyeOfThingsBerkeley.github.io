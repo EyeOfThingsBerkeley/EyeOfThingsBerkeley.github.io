{
 "metadata": {
  "name": "",
  "signature": "sha256:1570f67be79768c85754b1ed4a1e585a2a7671f33ba018190824168e835dbf98"
 },
 "nbformat": 3,
 "nbformat_minor": 0,
 "worksheets": [
  {
   "cells": [
    {
     "cell_type": "code",
     "collapsed": false,
     "input": [
      "import pandas as pd\n",
      "from random import randint\n",
      "import numpy as np\n",
      "import cPickle as pickle"
     ],
     "language": "python",
     "metadata": {},
     "outputs": [],
     "prompt_number": 2
    },
    {
     "cell_type": "code",
     "collapsed": false,
     "input": [
      "data = open('WolframDataDropRawData_DD9166f904472-c765-49bc-8ef6-c2d5f30112ae.tsv', 'r')"
     ],
     "language": "python",
     "metadata": {},
     "outputs": [],
     "prompt_number": 3
    },
    {
     "cell_type": "code",
     "collapsed": false,
     "input": [
      "data_str=data.read()"
     ],
     "language": "python",
     "metadata": {},
     "outputs": [],
     "prompt_number": 4
    },
    {
     "cell_type": "code",
     "collapsed": false,
     "input": [
      "to_fix={}\n",
      "\n",
      "to_fix[' \\t']=' '\n",
      "to_fix['=\\t']=''\n",
      "to_fix['=\\n']=''\n",
      "to_fix['=\\r']=''\n",
      "to_fix['\\tquot']=' quot'\n",
      "to_fix['\\tamp']=' amp'\n",
      "\n",
      "\n",
      "for fix in to_fix.keys():\n",
      "    fixed_data=data_str.replace(fix,to_fix[fix])\n",
      "\n",
      "\n",
      "rows=fixed_data.split('\\n')\n",
      "\n",
      "for fix in to_fix.keys():\n",
      "    rows=[r.replace(fix,to_fix[fix]) for r in rows]\n",
      "\n",
      "\n",
      "rows = [r for r in rows[:]]"
     ],
     "language": "python",
     "metadata": {},
     "outputs": [],
     "prompt_number": 5
    },
    {
     "cell_type": "code",
     "collapsed": false,
     "input": [
      "parsed_rows = [r.split('\\t') for r in rows]\n",
      "print len(rows), len(parsed_rows)"
     ],
     "language": "python",
     "metadata": {},
     "outputs": [
      {
       "output_type": "stream",
       "stream": "stdout",
       "text": [
        "943 943\n"
       ]
      }
     ],
     "prompt_number": 6
    },
    {
     "cell_type": "code",
     "collapsed": false,
     "input": [
      "key_vals = {}\n",
      "for ix, row in enumerate(parsed_rows):\n",
      "    key_vals[ix] = {}\n",
      "    for e in row:\n",
      "        if '=' in e:\n",
      "            field_split=e.split('=',1)\n",
      "            key=field_split[0].lower().strip()\n",
      "            value=field_split[1]\n",
      "            \n",
      "            key_vals[ix][key] = value\n",
      "        "
     ],
     "language": "python",
     "metadata": {},
     "outputs": [],
     "prompt_number": 7
    },
    {
     "cell_type": "code",
     "collapsed": false,
     "input": [
      "df = pd.DataFrame.from_dict(key_vals)\n",
      "df = df.T"
     ],
     "language": "python",
     "metadata": {},
     "outputs": [],
     "prompt_number": 8
    },
    {
     "cell_type": "code",
     "collapsed": false,
     "input": [
      "df.to_csv('datadrop_output.csv',sep='|', index_col=False)"
     ],
     "language": "python",
     "metadata": {},
     "outputs": [],
     "prompt_number": 9
    },
    {
     "cell_type": "code",
     "collapsed": false,
     "input": [
      "df_weather = df[df.actor == ' weather']"
     ],
     "language": "python",
     "metadata": {},
     "outputs": [],
     "prompt_number": 10
    },
    {
     "cell_type": "code",
     "collapsed": false,
     "input": [
      "new_weather_values = []\n",
      "hours = range(24)\n",
      "hours.remove(19)\n",
      "for ix, data in df_weather.iterrows():\n",
      "    time = pd.to_datetime(data.timestamp)\n",
      "    year = str(time.year)\n",
      "    month = str(time.month)\n",
      "    day = str(time.day)\n",
      "    value3_type = data.value3_type\n",
      "    activity_type = data.activity_type\n",
      "    actor = 'weather'\n",
      "    col_list = ['activity_type', 'actor', 'timestamp', 'value3', 'value3_type']\n",
      "    for hour in hours:\n",
      "        if (hour-7) > 9 or (hour-7) < 20: \n",
      "            #value = high temp, value2 = low temp, value3 = current temp\n",
      "            value3 = randint(int(data.value3), int(data.value)+3)\n",
      "        else:\n",
      "            value3 = randint(int(data.value2), int(data.value3))\n",
      "        datetime = pd.to_datetime(day+'/'+month+'/'+year+'/'+str(hour) ,format='%d/%m/%Y/%H')\n",
      "        col_values = [activity_type, actor, datetime, value3, value3_type]\n",
      "    \n",
      "        temp_list = []\n",
      "        for col in df_weather.columns:\n",
      "            if col in col_list:\n",
      "                temp_list.append(col_values[col_list.index(col)])\n",
      "            else:\n",
      "                temp_list.append(np.nan)\n",
      "        new_weather_values.append(tuple(temp_list))\n",
      "        del temp_list\n"
     ],
     "language": "python",
     "metadata": {},
     "outputs": [],
     "prompt_number": 35
    },
    {
     "cell_type": "code",
     "collapsed": false,
     "input": [
      "df_new_weather_values = df_weather.append(pd.DataFrame(new_weather_values, columns=df_weather.columns))"
     ],
     "language": "python",
     "metadata": {},
     "outputs": [],
     "prompt_number": 12
    },
    {
     "cell_type": "heading",
     "level": 3,
     "metadata": {},
     "source": [
      "Add Names"
     ]
    },
    {
     "cell_type": "code",
     "collapsed": false,
     "input": [
      "actor_name_lookup = pickle.load(open('actor_name_lookup.pkl', 'rb'))"
     ],
     "language": "python",
     "metadata": {},
     "outputs": [],
     "prompt_number": 13
    },
    {
     "cell_type": "code",
     "collapsed": false,
     "input": [
      "def update_name(activity, actor):\n",
      "    if activity is np.nan:\n",
      "        return actor\n",
      "    elif actor is np.nan:\n",
      "        if activity in actor_name_lookup:\n",
      "            return actor_name_lookup[activity]\n",
      "        new_name = raw_input('What is the actor of this activity %s: ' % (activity))\n",
      "        actor_name_lookup[activity] = new_name\n",
      "        return new_name\n",
      "        \n",
      "    else:\n",
      "        return actor"
     ],
     "language": "python",
     "metadata": {},
     "outputs": [],
     "prompt_number": 14
    },
    {
     "cell_type": "code",
     "collapsed": false,
     "input": [
      "new_actor_list = []\n",
      "for ix, row in df.iterrows():\n",
      "    new_actor_list.append(update_name(row.activity_type, row.actor))"
     ],
     "language": "python",
     "metadata": {},
     "outputs": [],
     "prompt_number": 15
    },
    {
     "cell_type": "code",
     "collapsed": false,
     "input": [
      "pickle.dump(actor_name_lookup, open('actor_name_lookup.pkl', 'wb'))"
     ],
     "language": "python",
     "metadata": {},
     "outputs": [],
     "prompt_number": 16
    },
    {
     "cell_type": "code",
     "collapsed": false,
     "input": [
      "df.actor = [x.strip() if type(x) == type('') else x for x in new_actor_list]"
     ],
     "language": "python",
     "metadata": {},
     "outputs": [],
     "prompt_number": 17
    },
    {
     "cell_type": "code",
     "collapsed": false,
     "input": [
      "df_with_weather = df.append(pd.DataFrame(new_weather_values, columns=df_weather.columns))"
     ],
     "language": "python",
     "metadata": {},
     "outputs": [],
     "prompt_number": 18
    },
    {
     "cell_type": "code",
     "collapsed": false,
     "input": [
      "df_with_weather.to_csv('datadrop_output_with_weather.csv',sep='|', index_col=False)"
     ],
     "language": "python",
     "metadata": {},
     "outputs": [],
     "prompt_number": 19
    },
    {
     "cell_type": "code",
     "collapsed": false,
     "input": [
      "df_with_weather[df_with_weather.timestamp == '25201510']"
     ],
     "language": "python",
     "metadata": {},
     "outputs": [
      {
       "html": [
        "<div style=\"max-height:1000px;max-width:1500px;overflow:auto;\">\n",
        "<table border=\"1\" class=\"dataframe\">\n",
        "  <thead>\n",
        "    <tr style=\"text-align: right;\">\n",
        "      <th></th>\n",
        "      <th>activity_type</th>\n",
        "      <th>actor</th>\n",
        "      <th>actor_device_id</th>\n",
        "      <th>actor_displayname</th>\n",
        "      <th>actor_id</th>\n",
        "      <th>actor_objecttype</th>\n",
        "      <th>actor_system</th>\n",
        "      <th>actor_team</th>\n",
        "      <th>actor_url</th>\n",
        "      <th>added_date</th>\n",
        "      <th>...</th>\n",
        "      <th>value2</th>\n",
        "      <th>value2_type</th>\n",
        "      <th>value3</th>\n",
        "      <th>value3_type</th>\n",
        "      <th>value4</th>\n",
        "      <th>value4_type</th>\n",
        "      <th>value5</th>\n",
        "      <th>value5_type</th>\n",
        "      <th>value_type</th>\n",
        "      <th>verb</th>\n",
        "    </tr>\n",
        "  </thead>\n",
        "  <tbody>\n",
        "    <tr>\n",
        "      <th>516</th>\n",
        "      <td>  temperature drops</td>\n",
        "      <td> weather</td>\n",
        "      <td> NaN</td>\n",
        "      <td> NaN</td>\n",
        "      <td> NaN</td>\n",
        "      <td> NaN</td>\n",
        "      <td> NaN</td>\n",
        "      <td> NaN</td>\n",
        "      <td> NaN</td>\n",
        "      <td> NaN</td>\n",
        "      <td>...</td>\n",
        "      <td> NaN</td>\n",
        "      <td> NaN</td>\n",
        "      <td> 61</td>\n",
        "      <td>  current fahrenheit</td>\n",
        "      <td> NaN</td>\n",
        "      <td> NaN</td>\n",
        "      <td> NaN</td>\n",
        "      <td> NaN</td>\n",
        "      <td> NaN</td>\n",
        "      <td> NaN</td>\n",
        "    </tr>\n",
        "  </tbody>\n",
        "</table>\n",
        "<p>1 rows \u00d7 72 columns</p>\n",
        "</div>"
       ],
       "metadata": {},
       "output_type": "pyout",
       "prompt_number": 30,
       "text": [
        "          activity_type    actor actor_device_id actor_displayname actor_id  \\\n",
        "516   temperature drops  weather             NaN               NaN      NaN   \n",
        "\n",
        "    actor_objecttype actor_system actor_team actor_url added_date ...  value2  \\\n",
        "516              NaN          NaN        NaN       NaN        NaN ...     NaN   \n",
        "\n",
        "    value2_type value3          value3_type value4 value4_type value5  \\\n",
        "516         NaN     61   current fahrenheit    NaN         NaN    NaN   \n",
        "\n",
        "    value5_type value_type verb  \n",
        "516         NaN        NaN  NaN  \n",
        "\n",
        "[1 rows x 72 columns]"
       ]
      }
     ],
     "prompt_number": 30
    },
    {
     "cell_type": "code",
     "collapsed": false,
     "input": [
      "df[df.timestamp == '25201510']"
     ],
     "language": "python",
     "metadata": {},
     "outputs": [
      {
       "html": [
        "<div style=\"max-height:1000px;max-width:1500px;overflow:auto;\">\n",
        "<table border=\"1\" class=\"dataframe\">\n",
        "  <thead>\n",
        "    <tr style=\"text-align: right;\">\n",
        "      <th></th>\n",
        "      <th>activity_type</th>\n",
        "      <th>actor</th>\n",
        "      <th>actor_device_id</th>\n",
        "      <th>actor_displayname</th>\n",
        "      <th>actor_id</th>\n",
        "      <th>actor_objecttype</th>\n",
        "      <th>actor_system</th>\n",
        "      <th>actor_team</th>\n",
        "      <th>actor_url</th>\n",
        "      <th>added_date</th>\n",
        "      <th>...</th>\n",
        "      <th>value2</th>\n",
        "      <th>value2_type</th>\n",
        "      <th>value3</th>\n",
        "      <th>value3_type</th>\n",
        "      <th>value4</th>\n",
        "      <th>value4_type</th>\n",
        "      <th>value5</th>\n",
        "      <th>value5_type</th>\n",
        "      <th>value_type</th>\n",
        "      <th>verb</th>\n",
        "    </tr>\n",
        "  </thead>\n",
        "  <tbody>\n",
        "  </tbody>\n",
        "</table>\n",
        "<p>0 rows \u00d7 72 columns</p>\n",
        "</div>"
       ],
       "metadata": {},
       "output_type": "pyout",
       "prompt_number": 31,
       "text": [
        "Empty DataFrame\n",
        "Columns: [activity_type, actor, actor_device_id, actor_displayname, actor_id, actor_objecttype, actor_system, actor_team, actor_url, added_date, change value1, criticality, derivedfrom, description, descriptor-tags, endtime, excerpt, excerpttagsurl, id, idverb, location, object_actor, object_address, object_datafields, object_descriptor-tags, object_descriptor_tags, object_displayname, object_id, object_object, object_objecttype, object_position, object_provider, object_published, object_title, object_url, object_verb, provenance_actor, provenance_relationship, provider_displayname, published, reason, reasonobject_object, starttime, status, subverb, system, system_id, tags, tagsurl, target_displayname, target_id, target_objecttype, target_url, time, timestamp, title, titleexcerpttagsurl, titleexcerpttagsurladded_date, url, value, value1, value1_type, value2, value2_type, value3, value3_type, value4, value4_type, value5, value5_type, value_type, verb]\n",
        "Index: []\n",
        "\n",
        "[0 rows x 72 columns]"
       ]
      }
     ],
     "prompt_number": 31
    },
    {
     "cell_type": "code",
     "collapsed": false,
     "input": [],
     "language": "python",
     "metadata": {},
     "outputs": []
    }
   ],
   "metadata": {}
  }
 ]
}